{
 "cells": [
  {
   "cell_type": "code",
   "execution_count": 19,
   "id": "2b7056f2-d83c-494b-b4b8-da8382fa6d1a",
   "metadata": {},
   "outputs": [],
   "source": [
    "# Import Libraries\n",
    "from bs4 import BeautifulSoup\n",
    "import requests\n",
    "import time\n",
    "import datetime\n",
    "import smtplib\n",
    "import csv\n",
    "import pandas as pd"
   ]
  },
  {
   "cell_type": "code",
   "execution_count": 9,
   "id": "2318a176-e32c-47a5-9b01-1a03b6323a95",
   "metadata": {},
   "outputs": [],
   "source": [
    "# Connect to Website\n",
    "URL = 'https://www.amazon.com/Magic-Gathering-Brothers-Booster-Packs/dp/B0B847SY1Y/ref=sr_1_5?keywords=magic+the+gathering+booster+box&qid=1668720631&sr=8-5'\n",
    "\n",
    "headers = {\"User-Agent\": \"Mozilla/5.0 (Windows NT 10.0; Win64; x64) AppleWebKit/537.36 (KHTML, like Gecko) Chrome/107.0.0.0 Safari/537.36\", \"Accept-Encoding\":\"gzip, deflate\", \"Accept\":\"text/html,application/xhtml+xml,application/xml;q=0.9,*/*;q=0.8\", \"DNT\":\"1\",\"Connection\":\"close\", \"Upgrade-Insecure-Requests\":\"1\"}\n",
    "\n",
    "page = requests.get(URL, headers=headers)"
   ]
  },
  {
   "cell_type": "code",
   "execution_count": 10,
   "id": "a8ba154c-0124-40a9-8586-e65fe135d09d",
   "metadata": {},
   "outputs": [
    {
     "name": "stdout",
     "output_type": "stream",
     "text": [
      "\n",
      "            Magic: The Gathering The Brothers’ War Set Booster Box | 30 Packs (360 Magic Cards)\n",
      "           \n",
      "\n",
      "                         $124.95\n",
      "                        \n"
     ]
    }
   ],
   "source": [
    "# Find Item Title and Price\n",
    "soup1 = BeautifulSoup(page.content, \"html.parser\")\n",
    "soup2 = BeautifulSoup(soup1.prettify(), \"html.parser\")\n",
    "\n",
    "title = soup2.find(id='productTitle').get_text()\n",
    "price = soup2.find(\"span\", attrs={'class': 'a-offscreen'}).get_text()\n",
    "\n",
    "print(title)\n",
    "print(price)"
   ]
  },
  {
   "cell_type": "code",
   "execution_count": null,
   "id": "17ea18be-e368-4e46-b9c9-ad227493bf01",
   "metadata": {},
   "outputs": [],
   "source": [
    "# Add DateTime to Dataset\n",
    "today = datetime.date.today()\n",
    "print(today)"
   ]
  },
  {
   "cell_type": "code",
   "execution_count": 11,
   "id": "cf2e62f7-e97a-42ed-bac4-4e957eecd03b",
   "metadata": {},
   "outputs": [
    {
     "name": "stdout",
     "output_type": "stream",
     "text": [
      "Magic: The Gathering The Brothers’ War Set Booster Box | 30 Packs (360 Magic Cards)\n",
      "124.95\n"
     ]
    }
   ],
   "source": [
    "# Clean up Data\n",
    "title = title.strip()\n",
    "price = price.strip()[1:]\n",
    "print(title)\n",
    "print(price)"
   ]
  },
  {
   "cell_type": "code",
   "execution_count": 17,
   "id": "831ccf50-3eae-47e1-b5d3-c5159830dd10",
   "metadata": {},
   "outputs": [],
   "source": [
    "# Create csv File to Store Datset\n",
    "header = ['Title', 'Price', 'Date']\n",
    "data = [title, price, today]\n",
    "\n",
    "with open('Web_scraper_dataset.csv', 'w', newline='', encoding='UTF8') as f:\n",
    "    writer = csv.writer(f)\n",
    "    writer.writerow(header)\n",
    "    writer.writerow(data)"
   ]
  },
  {
   "cell_type": "code",
   "execution_count": 20,
   "id": "6d8a55da-bf19-44a8-a747-7a7181629583",
   "metadata": {},
   "outputs": [
    {
     "name": "stdout",
     "output_type": "stream",
     "text": [
      "                                               Title   Price        Date\n",
      "0  Magic: The Gathering The Brothers’ War Set Boo...  124.95  2022-11-17\n"
     ]
    }
   ],
   "source": [
    "df = pd.read_csv(r'C:\\Users\\White\\Intro to Research Homework\\Personal Projects\\SQL Projects\\Web_scraper_dataset.csv')\n",
    "print(df)"
   ]
  },
  {
   "cell_type": "code",
   "execution_count": 23,
   "id": "45d83cff-7a2d-4f8c-a9c2-d840b486e6dd",
   "metadata": {},
   "outputs": [],
   "source": [
    "# Update With New Data Daily\n",
    "\n",
    "def check_price():\n",
    "    URL = 'https://www.amazon.com/Magic-Gathering-Brothers-Booster-Packs/dp/B0B847SY1Y/ref=sr_1_5?keywords=magic+the+gathering+booster+box&qid=1668720631&sr=8-5'\n",
    "\n",
    "    headers = {\"User-Agent\": \"Mozilla/5.0 (Windows NT 10.0; Win64; x64) AppleWebKit/537.36 (KHTML, like Gecko) Chrome/107.0.0.0 Safari/537.36\", \"Accept-Encoding\":\"gzip, deflate\", \"Accept\":\"text/html,application/xhtml+xml,application/xml;q=0.9,*/*;q=0.8\", \"DNT\":\"1\",\"Connection\":\"close\", \"Upgrade-Insecure-Requests\":\"1\"}\n",
    "\n",
    "    page = requests.get(URL, headers=headers)\n",
    "   \n",
    "    soup1 = BeautifulSoup(page.content, \"html.parser\")\n",
    "    soup2 = BeautifulSoup(soup1.prettify(), \"html.parser\")\n",
    "\n",
    "    title = soup2.find(id='productTitle').get_text()\n",
    "    price = soup2.find(\"span\", attrs={'class': 'a-offscreen'}).get_text()\n",
    "    today = datetime.date.today()\n",
    "    title = title.strip()\n",
    "    price = price.strip()[1:]\n",
    "    \n",
    "    header = ['Title', 'Price', 'Date']\n",
    "    data = [title, price, today]\n",
    "\n",
    "    with open('Web_scraper_dataset.csv', 'a+', newline='', encoding='UTF8') as f:\n",
    "        writer = csv.writer(f)\n",
    "        writer.writerow(data)"
   ]
  },
  {
   "cell_type": "code",
   "execution_count": null,
   "id": "72030134-5d47-4790-9bcd-c9b2659084fc",
   "metadata": {},
   "outputs": [],
   "source": [
    "while(True):\n",
    "    check_price()\n",
    "    time.sleep(86400)# checks the price every 24 hours"
   ]
  }
 ],
 "metadata": {
  "kernelspec": {
   "display_name": "Python 3 (ipykernel)",
   "language": "python",
   "name": "python3"
  },
  "language_info": {
   "codemirror_mode": {
    "name": "ipython",
    "version": 3
   },
   "file_extension": ".py",
   "mimetype": "text/x-python",
   "name": "python",
   "nbconvert_exporter": "python",
   "pygments_lexer": "ipython3",
   "version": "3.9.5"
  }
 },
 "nbformat": 4,
 "nbformat_minor": 5
}
